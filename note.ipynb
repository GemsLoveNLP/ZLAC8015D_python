{
 "cells": [
  {
   "cell_type": "code",
   "execution_count": null,
   "metadata": {},
   "outputs": [],
   "source": [
    "# Display to get connected USB devices\n",
    "\n",
    "# Nothing\n",
    "# (base) >_gems:~/Documents/senior/ZLAC8015D_python $lsusb\n",
    "# Bus 004 Device 001: ID 1d6b:0003 Linux Foundation 3.0 root hub\n",
    "# Bus 003 Device 004: ID 0b05:6206 ASUSTek Computer, Inc. C-Media(R) Audio\n",
    "# Bus 003 Device 003: ID 322e:202c Sonix Technology Co., Ltd. USB2.0 HD UVC WebCam\n",
    "# Bus 003 Device 005: ID 8087:0026 Intel Corp. \n",
    "# Bus 003 Device 001: ID 1d6b:0002 Linux Foundation 2.0 root hub\n",
    "# Bus 002 Device 001: ID 1d6b:0003 Linux Foundation 3.0 root hub\n",
    "# Bus 001 Device 001: ID 1d6b:0002 Linux Foundation 2.0 root hub\n",
    "\n",
    "# Just Hub Splitter\n",
    "# (base) >_gems:~/Documents/senior/ZLAC8015D_python $lsusb\n",
    "# Bus 004 Device 002: ID 0bda:0411 Realtek Semiconductor Corp. 4-Port USB 3.0 Hub\n",
    "# Bus 004 Device 001: ID 1d6b:0003 Linux Foundation 3.0 root hub\n",
    "# Bus 003 Device 004: ID 0b05:6206 ASUSTek Computer, Inc. C-Media(R) Audio\n",
    "# Bus 003 Device 003: ID 322e:202c Sonix Technology Co., Ltd. USB2.0 HD UVC WebCam\n",
    "# Bus 003 Device 009: ID 0bda:5411 Realtek Semiconductor Corp. 4-Port USB 2.0 Hub\n",
    "# Bus 003 Device 005: ID 8087:0026 Intel Corp. \n",
    "# Bus 003 Device 001: ID 1d6b:0002 Linux Foundation 2.0 root hub\n",
    "# Bus 002 Device 001: ID 1d6b:0003 Linux Foundation 3.0 root hub\n",
    "# Bus 001 Device 001: ID 1d6b:0002 Linux Foundation 2.0 root hub\n",
    "\n",
    "# Hub splitter + mouse\n",
    "# (base) >_gems:~/Documents/senior/ZLAC8015D_python $lsusb\n",
    "# Bus 004 Device 002: ID 0bda:0411 Realtek Semiconductor Corp. 4-Port USB 3.0 Hub\n",
    "# Bus 004 Device 001: ID 1d6b:0003 Linux Foundation 3.0 root hub\n",
    "# Bus 003 Device 004: ID 0b05:6206 ASUSTek Computer, Inc. C-Media(R) Audio\n",
    "# Bus 003 Device 003: ID 322e:202c Sonix Technology Co., Ltd. USB2.0 HD UVC WebCam\n",
    "# Bus 003 Device 010: ID 03f0:a407 HP, Inc Wireless Optical Comfort Mouse\n",
    "# Bus 003 Device 009: ID 0bda:5411 Realtek Semiconductor Corp. 4-Port USB 2.0 Hub\n",
    "# Bus 003 Device 005: ID 8087:0026 Intel Corp. \n",
    "# Bus 003 Device 001: ID 1d6b:0002 Linux Foundation 2.0 root hub\n",
    "# Bus 002 Device 001: ID 1d6b:0003 Linux Foundation 3.0 root hub\n",
    "# Bus 001 Device 001: ID 1d6b:0002 Linux Foundation 2.0 root hub\n"
   ]
  }
 ],
 "metadata": {
  "language_info": {
   "name": "python"
  }
 },
 "nbformat": 4,
 "nbformat_minor": 2
}

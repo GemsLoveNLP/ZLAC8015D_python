{
 "cells": [
  {
   "cell_type": "code",
   "execution_count": null,
   "metadata": {},
   "outputs": [],
   "source": [
    "# Display to get connected USB devices\n",
    "\n",
    "# Nothing\n",
    "# (base) >_gems:~/Documents/senior/ZLAC8015D_python $lsusb\n",
    "# Bus 004 Device 001: ID 1d6b:0003 Linux Foundation 3.0 root hub\n",
    "# Bus 003 Device 004: ID 0b05:6206 ASUSTek Computer, Inc. C-Media(R) Audio\n",
    "# Bus 003 Device 003: ID 322e:202c Sonix Technology Co., Ltd. USB2.0 HD UVC WebCam\n",
    "# Bus 003 Device 005: ID 8087:0026 Intel Corp. \n",
    "# Bus 003 Device 001: ID 1d6b:0002 Linux Foundation 2.0 root hub\n",
    "# Bus 002 Device 001: ID 1d6b:0003 Linux Foundation 3.0 root hub\n",
    "# Bus 001 Device 001: ID 1d6b:0002 Linux Foundation 2.0 root hub\n",
    "\n",
    "# Just Hub Splitter\n",
    "# (base) >_gems:~/Documents/senior/ZLAC8015D_python $lsusb\n",
    "# Bus 004 Device 002: ID 0bda:0411 Realtek Semiconductor Corp. 4-Port USB 3.0 Hub\n",
    "# Bus 004 Device 001: ID 1d6b:0003 Linux Foundation 3.0 root hub\n",
    "# Bus 003 Device 004: ID 0b05:6206 ASUSTek Computer, Inc. C-Media(R) Audio\n",
    "# Bus 003 Device 003: ID 322e:202c Sonix Technology Co., Ltd. USB2.0 HD UVC WebCam\n",
    "# Bus 003 Device 009: ID 0bda:5411 Realtek Semiconductor Corp. 4-Port USB 2.0 Hub\n",
    "# Bus 003 Device 005: ID 8087:0026 Intel Corp. \n",
    "# Bus 003 Device 001: ID 1d6b:0002 Linux Foundation 2.0 root hub\n",
    "# Bus 002 Device 001: ID 1d6b:0003 Linux Foundation 3.0 root hub\n",
    "# Bus 001 Device 001: ID 1d6b:0002 Linux Foundation 2.0 root hub\n",
    "\n",
    "# Hub splitter + mouse\n",
    "# (base) >_gems:~/Documents/senior/ZLAC8015D_python $lsusb\n",
    "# Bus 004 Device 002: ID 0bda:0411 Realtek Semiconductor Corp. 4-Port USB 3.0 Hub\n",
    "# Bus 004 Device 001: ID 1d6b:0003 Linux Foundation 3.0 root hub\n",
    "# Bus 003 Device 004: ID 0b05:6206 ASUSTek Computer, Inc. C-Media(R) Audio\n",
    "# Bus 003 Device 003: ID 322e:202c Sonix Technology Co., Ltd. USB2.0 HD UVC WebCam\n",
    "# Bus 003 Device 010: ID 03f0:a407 HP, Inc Wireless Optical Comfort Mouse\n",
    "# Bus 003 Device 009: ID 0bda:5411 Realtek Semiconductor Corp. 4-Port USB 2.0 Hub\n",
    "# Bus 003 Device 005: ID 8087:0026 Intel Corp. \n",
    "# Bus 003 Device 001: ID 1d6b:0002 Linux Foundation 2.0 root hub\n",
    "# Bus 002 Device 001: ID 1d6b:0003 Linux Foundation 3.0 root hub\n",
    "# Bus 001 Device 001: ID 1d6b:0002 Linux Foundation 2.0 root hub\n"
   ]
  },
  {
   "cell_type": "code",
   "execution_count": 3,
   "metadata": {},
   "outputs": [
    {
     "data": {
      "text/plain": [
       "['/dev/ttyUSB0', '/dev/ttyUSB1']"
      ]
     },
     "execution_count": 3,
     "metadata": {},
     "output_type": "execute_result"
    }
   ],
   "source": [
    "import os\n",
    "\n",
    "result = os.popen('ls /dev/ttyUSB*').read()\n",
    "\n",
    "result.strip().split(\"\\n\")"
   ]
  },
  {
   "cell_type": "code",
   "execution_count": null,
   "metadata": {},
   "outputs": [],
   "source": [
    "# k = 0\n",
    "\n",
    "# def flip(x_log,thresh,X):\n",
    "#     global k\n",
    "#     xt = x_log[-2]\n",
    "#     xt_1 = x_log[-1]\n",
    "#     if xt_1 - xt > thresh:\n",
    "#         k -= 1\n",
    "#     elif xt - xt_1 > thresh:\n",
    "#         k += 1\n",
    "#     return xt_1 + k*X\n",
    "\n",
    "# array = []\n",
    "# for i in range(10):\n",
    "#     array.append(i%)"
   ]
  },
  {
   "cell_type": "markdown",
   "metadata": {},
   "source": [
    "# Note:\n",
    "\n",
    "- Plug right side in first, then left side with splitter\n",
    "- The sole USB is the USB0\n",
    "- The USB on the R side is USB1\n",
    "- The USB on the A side is USB2"
   ]
  },
  {
   "cell_type": "code",
   "execution_count": 2,
   "metadata": {},
   "outputs": [],
   "source": [
    "f = \"\"\"0.0165\n",
    "0.0157\n",
    "0.0161\n",
    "0.0158\n",
    "0.0161\n",
    "0.0159\"\"\""
   ]
  },
  {
   "cell_type": "code",
   "execution_count": 3,
   "metadata": {},
   "outputs": [
    {
     "data": {
      "text/plain": [
       "(0.016016666666666665, 0.0002857738033247043)"
      ]
     },
     "execution_count": 3,
     "metadata": {},
     "output_type": "execute_result"
    }
   ],
   "source": [
    "import statistics as stat\n",
    "l = [float(i) for i in f.split()]\n",
    "stat.mean(l), stat.stdev(l)"
   ]
  },
  {
   "cell_type": "code",
   "execution_count": 1,
   "metadata": {},
   "outputs": [],
   "source": [
    "import math\n",
    "import numpy as np \n",
    "import pandas as pd\n",
    "\n",
    "\n",
    "real_rpm = []\n",
    "real_dist = []\n",
    "\n",
    "for rpm in [5, 10, 15, 20, 30, 60]:\n",
    "    for dt in [1, 2, 5, 10, 30, 60]:\n",
    "            dl = 0.0695*(rpm*2*math.pi/60)*dt\n",
    "            real_rpm.append(rpm)\n",
    "            real_dist.append(dl)"
   ]
  },
  {
   "cell_type": "code",
   "execution_count": 2,
   "metadata": {},
   "outputs": [],
   "source": [
    "rpm = [4.95, 5.0, 4.65, 4.949999999999999, 4.65, 4.9, 10.05, 9.649999999999999, 9.75, 10.600000000000001, 10.65, 10.05, 14.35, 14.65, 15.45, 15.05, 15.25, 15.3, 20.15, 19.15, 20.200000000000003, 19.9, 20.1, 20.25, 30.4, 29.25, 29.75, 30.3, 30.35, 29.65, 60.35, 60.099999999999994, 59.65, 60.349999999999994, 60.35, 59.849999999999994] \n",
    "dist = [0.03398412208727386, 0.0729176451327449, 0.17940916788831185, 0.35917564547146696, 1.073424491769912, 2.1467034129234035, 0.0720442214342416, 0.14609996411351744, 0.36313251949954317, 0.7239756102136088, 2.168327266307598, 4.334629777677755, 0.10851627769301153, 0.21887203862984528, 0.5429386981599027, 1.0826219079890134, 3.2428633882392415, 6.4823389512236815, 0.1454647468782433, 0.2924381346902649, 0.7259606640738454, 1.448123258428442, 4.336839804308823, 8.66355583393042, 0.21736339769606516, 0.43864396834299413, 1.089212286805008, 2.1721121023344487, 6.505061201077204, 13.004405447036927, 0.431497774446143, 0.8796964687030808, 2.1808198719346947, 4.3507616487152845, 13.030158212450416, 26.04860460712542]"
   ]
  },
  {
   "cell_type": "code",
   "execution_count": 5,
   "metadata": {},
   "outputs": [],
   "source": [
    "rpm_2d = np.array([rpm[i*6:i*6+6] for i in range(len(rpm)//6)])\n",
    "real_rpm_2d = np.array([real_rpm[i*6:i*6+6] for i in range(len(real_rpm)//6)])\n",
    "dist_2d = np.array([dist[i*6:i*6+6] for i in range(len(dist)//6)])\n",
    "real_dist_2d = np.array([real_dist[i*6:i*6+6] for i in range(len(real_dist)//6)])"
   ]
  },
  {
   "cell_type": "code",
   "execution_count": 20,
   "metadata": {},
   "outputs": [],
   "source": [
    "time_array = [1, 2, 5, 10, 30, 60]  # Your real time values\n",
    "rpm_array  = [5, 10, 15, 20, 30, 60]  # Your real RPM values"
   ]
  },
  {
   "cell_type": "code",
   "execution_count": 19,
   "metadata": {},
   "outputs": [],
   "source": [
    "import numpy as np\n",
    "from scipy.stats import linregress\n",
    "\n",
    "def analyze_sensor_errors(theoretical_2d, sensor_2d,\n",
    "                          time_values=None,\n",
    "                          rpm_values=None):\n",
    "    \"\"\"\n",
    "    Analyzes the error between theoretical and sensor 2D arrays and performs multiple regressions.\n",
    "    \n",
    "    Parameters\n",
    "    ----------\n",
    "    theoretical_2d : np.ndarray\n",
    "        Shape (N, M) array of theoretical values\n",
    "        N = number of RPMs, M = number of time points\n",
    "    sensor_2d : np.ndarray\n",
    "        Shape (N, M) array of sensor readings (same shape as `theoretical_2d`)\n",
    "    time_values : array-like of shape (M,), optional\n",
    "        Actual time values corresponding to the columns.\n",
    "        Defaults to the indices [0, 1, 2, ..., M-1] if None.\n",
    "    rpm_values : array-like of shape (N,), optional\n",
    "        Actual RPM values corresponding to the rows.\n",
    "        Defaults to the indices [0, 1, 2, ..., N-1] if None.\n",
    "    \n",
    "    Returns\n",
    "    -------\n",
    "    results : dict\n",
    "        Contains:\n",
    "          - \"mae_by_time\": mean absolute error by time (M-element array)\n",
    "          - \"mae_by_rpm\": mean absolute error by RPM (N-element array)\n",
    "          - \"mae_total\": overall mean absolute error\n",
    "          - \"sensor_theoretical_regression\": dict with slope, intercept, etc.\n",
    "          - \"time_error_regression\": dict with slope, intercept, etc.\n",
    "          - \"rpm_error_regression\": dict with slope, intercept, etc.\n",
    "    \"\"\"\n",
    "\n",
    "    # Check that both arrays have the same shape\n",
    "    if theoretical_2d.shape != sensor_2d.shape:\n",
    "        raise ValueError(\"Theoretical and sensor arrays must have the same shape.\")\n",
    "\n",
    "    # 0) Set up default time / rpm arrays if none provided\n",
    "    n_rpm, m_time = theoretical_2d.shape\n",
    "    if time_values is None:\n",
    "        # default to [0, 1, ..., M-1] if not provided\n",
    "        time_values = np.arange(m_time)\n",
    "    else:\n",
    "        time_values = np.array(time_values)\n",
    "        if len(time_values) != m_time:\n",
    "            raise ValueError(\"Length of time_values must match the number of columns in theoretical_2d.\")\n",
    "    \n",
    "    if rpm_values is None:\n",
    "        # default to [0, 1, ..., N-1] if not provided\n",
    "        rpm_values = np.arange(n_rpm)\n",
    "    else:\n",
    "        rpm_values = np.array(rpm_values)\n",
    "        if len(rpm_values) != n_rpm:\n",
    "            raise ValueError(\"Length of rpm_values must match the number of rows in theoretical_2d.\")\n",
    "\n",
    "    # 1) Calculate element-wise differences (signed error)\n",
    "    differences = sensor_2d - theoretical_2d\n",
    "\n",
    "    # 2) Calculate mean absolute error (MAE)\n",
    "    mae_by_time = np.mean(np.abs(differences), axis=0)  # per column\n",
    "    mae_by_rpm  = np.mean(np.abs(differences), axis=1)  # per row\n",
    "    mae_total   = np.mean(np.abs(differences))\n",
    "\n",
    "    # 3) Regression: sensor vs. theoretical (flattened)\n",
    "    sensor_flat      = sensor_2d.ravel()\n",
    "    theoretical_flat = theoretical_2d.ravel()\n",
    "    slope_st, intercept_st, r_value_st, p_value_st, std_err_st = linregress(sensor_flat, theoretical_flat)\n",
    "    r_squared_st = r_value_st**2\n",
    "\n",
    "    # 4) Regression of error vs. time (use real time values if provided)\n",
    "    #    We'll use average *signed* difference for each time column.\n",
    "    error_by_time = np.mean(differences, axis=0)  # shape (M,)\n",
    "    slope_t, intercept_t, r_value_t, p_value_t, std_err_t = linregress(time_values, error_by_time)\n",
    "    r_squared_t = r_value_t**2\n",
    "\n",
    "    # 5) Regression of error vs. RPM (use real RPM values if provided)\n",
    "    #    We'll use average *signed* difference for each RPM row.\n",
    "    error_by_rpm = np.mean(differences, axis=1)   # shape (N,)\n",
    "    slope_r, intercept_r, r_value_r, p_value_r, std_err_r = linregress(rpm_values, error_by_rpm)\n",
    "    r_squared_r = r_value_r**2\n",
    "\n",
    "    # 6) Return results\n",
    "    results = {\n",
    "        \"mae_by_time\": mae_by_time,\n",
    "        \"mae_by_rpm\": mae_by_rpm,\n",
    "        \"mae_total\": mae_total,\n",
    "        \"sensor_theoretical_regression\": {\n",
    "            \"slope\": slope_st,\n",
    "            \"intercept\": intercept_st,\n",
    "            \"r_squared\": r_squared_st,\n",
    "            \"p_value\": p_value_st,\n",
    "            \"std_err\": std_err_st\n",
    "        },\n",
    "        \"time_error_regression\": {\n",
    "            \"slope\": slope_t,\n",
    "            \"intercept\": intercept_t,\n",
    "            \"r_squared\": r_squared_t,\n",
    "            \"p_value\": p_value_t,\n",
    "            \"std_err\": std_err_t\n",
    "        },\n",
    "        \"rpm_error_regression\": {\n",
    "            \"slope\": slope_r,\n",
    "            \"intercept\": intercept_r,\n",
    "            \"r_squared\": r_squared_r,\n",
    "            \"p_value\": p_value_r,\n",
    "            \"std_err\": std_err_r\n",
    "        }\n",
    "    }\n",
    "    return results\n"
   ]
  },
  {
   "cell_type": "code",
   "execution_count": 21,
   "metadata": {},
   "outputs": [
    {
     "name": "stdout",
     "output_type": "stream",
     "text": [
      "MAE by time: [0.275      0.4        0.30833333 0.24166667 0.34166667 0.2       ]\n",
      "MAE by RPM:  [0.15       0.325      0.34166667 0.275      0.4        0.275     ]\n",
      "Total MAE:   0.2944444444444448\n",
      "\n",
      "Sensor->Theoretical Regression\n",
      "  Slope:     0.9972082766092536\n",
      "  Intercept: 0.06514021245074986\n",
      "  R-squared: 0.9996174982859353\n",
      "  p-value:   1.091072817845206e-59\n",
      "\n",
      "Error vs. Time Regression\n",
      "  Slope:     0.0027984611566145455\n",
      "  Intercept: -0.05037230081906219\n",
      "  R-squared: 0.09069025017723267\n",
      "  p-value:   0.5619332742662809\n",
      "\n",
      "Error vs. RPM Regression\n",
      "  Slope:     0.0024159663865545703\n",
      "  Intercept: -0.056372549019607004\n",
      "  R-squared: 0.21372010342597866\n",
      "  p-value:   0.35595318977838936\n"
     ]
    }
   ],
   "source": [
    "results = analyze_sensor_errors(real_rpm_2d, rpm_2d, \n",
    "                                time_values=time_array,\n",
    "                                rpm_values=rpm_array)\n",
    "\n",
    "print(\"MAE by time:\", results[\"mae_by_time\"])\n",
    "print(\"MAE by RPM: \", results[\"mae_by_rpm\"])\n",
    "print(\"Total MAE:  \", results[\"mae_total\"])\n",
    "\n",
    "# Sensor→Theoretical\n",
    "st_reg = results[\"sensor_theoretical_regression\"]\n",
    "print(\"\\nSensor->Theoretical Regression\")\n",
    "print(\"  Slope:    \", st_reg[\"slope\"])\n",
    "print(\"  Intercept:\", st_reg[\"intercept\"])\n",
    "print(\"  R-squared:\", st_reg[\"r_squared\"])\n",
    "print(\"  p-value:  \", st_reg[\"p_value\"])\n",
    "\n",
    "# Error vs. Time\n",
    "time_reg = results[\"time_error_regression\"]\n",
    "print(\"\\nError vs. Time Regression\")\n",
    "print(\"  Slope:    \", time_reg[\"slope\"])\n",
    "print(\"  Intercept:\", time_reg[\"intercept\"])\n",
    "print(\"  R-squared:\", time_reg[\"r_squared\"])\n",
    "print(\"  p-value:  \", time_reg[\"p_value\"])\n",
    "\n",
    "# Error vs. RPM\n",
    "rpm_reg = results[\"rpm_error_regression\"]\n",
    "print(\"\\nError vs. RPM Regression\")\n",
    "print(\"  Slope:    \", rpm_reg[\"slope\"])\n",
    "print(\"  Intercept:\", rpm_reg[\"intercept\"])\n",
    "print(\"  R-squared:\", rpm_reg[\"r_squared\"])\n",
    "print(\"  p-value:  \", rpm_reg[\"p_value\"])"
   ]
  },
  {
   "cell_type": "code",
   "execution_count": 22,
   "metadata": {},
   "outputs": [
    {
     "name": "stdout",
     "output_type": "stream",
     "text": [
      "MAE by time: [0.00167545 0.00180363 0.00219048 0.00874367 0.03517036 0.07585917]\n",
      "MAE by RPM:  [0.01079879 0.00885574 0.01888478 0.0184636  0.02632021 0.04211963]\n",
      "Total MAE:   0.02090712512442242\n",
      "\n",
      "Sensor->Theoretical Regression\n",
      "  Slope:     1.0062646556229402\n",
      "  Intercept: 0.0012835152230925573\n",
      "  R-squared: 0.9999971042491762\n",
      "  p-value:   9.614982996166527e-96\n",
      "\n",
      "Error vs. Time Regression\n",
      "  Slope:     -0.0013068054027992474\n",
      "  Intercept: 0.0032165824028456136\n",
      "  R-squared: 0.9961115311817097\n",
      "  p-value:   5.677436571495516e-06\n",
      "\n",
      "Error vs. RPM Regression\n",
      "  Slope:     -0.0005593034248409251\n",
      "  Intercept: -0.007255501601252587\n",
      "  R-squared: 0.9527548842366924\n",
      "  p-value:   0.0008505815893801455\n"
     ]
    }
   ],
   "source": [
    "results = analyze_sensor_errors(real_dist_2d, dist_2d,\n",
    "                                time_values=time_array,\n",
    "                                rpm_values=rpm_array)\n",
    "\n",
    "print(\"MAE by time:\", results[\"mae_by_time\"])\n",
    "print(\"MAE by RPM: \", results[\"mae_by_rpm\"])\n",
    "print(\"Total MAE:  \", results[\"mae_total\"])\n",
    "\n",
    "# Sensor→Theoretical\n",
    "st_reg = results[\"sensor_theoretical_regression\"]\n",
    "print(\"\\nSensor->Theoretical Regression\")\n",
    "print(\"  Slope:    \", st_reg[\"slope\"])\n",
    "print(\"  Intercept:\", st_reg[\"intercept\"])\n",
    "print(\"  R-squared:\", st_reg[\"r_squared\"])\n",
    "print(\"  p-value:  \", st_reg[\"p_value\"])\n",
    "\n",
    "# Error vs. Time\n",
    "time_reg = results[\"time_error_regression\"]\n",
    "print(\"\\nError vs. Time Regression\")\n",
    "print(\"  Slope:    \", time_reg[\"slope\"])\n",
    "print(\"  Intercept:\", time_reg[\"intercept\"])\n",
    "print(\"  R-squared:\", time_reg[\"r_squared\"])\n",
    "print(\"  p-value:  \", time_reg[\"p_value\"])\n",
    "\n",
    "# Error vs. RPM\n",
    "rpm_reg = results[\"rpm_error_regression\"]\n",
    "print(\"\\nError vs. RPM Regression\")\n",
    "print(\"  Slope:    \", rpm_reg[\"slope\"])\n",
    "print(\"  Intercept:\", rpm_reg[\"intercept\"])\n",
    "print(\"  R-squared:\", rpm_reg[\"r_squared\"])\n",
    "print(\"  p-value:  \", rpm_reg[\"p_value\"])"
   ]
  },
  {
   "cell_type": "code",
   "execution_count": null,
   "metadata": {},
   "outputs": [],
   "source": []
  }
 ],
 "metadata": {
  "kernelspec": {
   "display_name": "base",
   "language": "python",
   "name": "python3"
  },
  "language_info": {
   "codemirror_mode": {
    "name": "ipython",
    "version": 3
   },
   "file_extension": ".py",
   "mimetype": "text/x-python",
   "name": "python",
   "nbconvert_exporter": "python",
   "pygments_lexer": "ipython3",
   "version": "3.8.20"
  }
 },
 "nbformat": 4,
 "nbformat_minor": 2
}

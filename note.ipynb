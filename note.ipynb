{
 "cells": [
  {
   "cell_type": "code",
   "execution_count": null,
   "metadata": {},
   "outputs": [],
   "source": [
    "# Display to get connected USB devices\n",
    "\n",
    "# Nothing\n",
    "# (base) >_gems:~/Documents/senior/ZLAC8015D_python $lsusb\n",
    "# Bus 004 Device 001: ID 1d6b:0003 Linux Foundation 3.0 root hub\n",
    "# Bus 003 Device 004: ID 0b05:6206 ASUSTek Computer, Inc. C-Media(R) Audio\n",
    "# Bus 003 Device 003: ID 322e:202c Sonix Technology Co., Ltd. USB2.0 HD UVC WebCam\n",
    "# Bus 003 Device 005: ID 8087:0026 Intel Corp. \n",
    "# Bus 003 Device 001: ID 1d6b:0002 Linux Foundation 2.0 root hub\n",
    "# Bus 002 Device 001: ID 1d6b:0003 Linux Foundation 3.0 root hub\n",
    "# Bus 001 Device 001: ID 1d6b:0002 Linux Foundation 2.0 root hub\n",
    "\n",
    "# Just Hub Splitter\n",
    "# (base) >_gems:~/Documents/senior/ZLAC8015D_python $lsusb\n",
    "# Bus 004 Device 002: ID 0bda:0411 Realtek Semiconductor Corp. 4-Port USB 3.0 Hub\n",
    "# Bus 004 Device 001: ID 1d6b:0003 Linux Foundation 3.0 root hub\n",
    "# Bus 003 Device 004: ID 0b05:6206 ASUSTek Computer, Inc. C-Media(R) Audio\n",
    "# Bus 003 Device 003: ID 322e:202c Sonix Technology Co., Ltd. USB2.0 HD UVC WebCam\n",
    "# Bus 003 Device 009: ID 0bda:5411 Realtek Semiconductor Corp. 4-Port USB 2.0 Hub\n",
    "# Bus 003 Device 005: ID 8087:0026 Intel Corp. \n",
    "# Bus 003 Device 001: ID 1d6b:0002 Linux Foundation 2.0 root hub\n",
    "# Bus 002 Device 001: ID 1d6b:0003 Linux Foundation 3.0 root hub\n",
    "# Bus 001 Device 001: ID 1d6b:0002 Linux Foundation 2.0 root hub\n",
    "\n",
    "# Hub splitter + mouse\n",
    "# (base) >_gems:~/Documents/senior/ZLAC8015D_python $lsusb\n",
    "# Bus 004 Device 002: ID 0bda:0411 Realtek Semiconductor Corp. 4-Port USB 3.0 Hub\n",
    "# Bus 004 Device 001: ID 1d6b:0003 Linux Foundation 3.0 root hub\n",
    "# Bus 003 Device 004: ID 0b05:6206 ASUSTek Computer, Inc. C-Media(R) Audio\n",
    "# Bus 003 Device 003: ID 322e:202c Sonix Technology Co., Ltd. USB2.0 HD UVC WebCam\n",
    "# Bus 003 Device 010: ID 03f0:a407 HP, Inc Wireless Optical Comfort Mouse\n",
    "# Bus 003 Device 009: ID 0bda:5411 Realtek Semiconductor Corp. 4-Port USB 2.0 Hub\n",
    "# Bus 003 Device 005: ID 8087:0026 Intel Corp. \n",
    "# Bus 003 Device 001: ID 1d6b:0002 Linux Foundation 2.0 root hub\n",
    "# Bus 002 Device 001: ID 1d6b:0003 Linux Foundation 3.0 root hub\n",
    "# Bus 001 Device 001: ID 1d6b:0002 Linux Foundation 2.0 root hub\n"
   ]
  },
  {
   "cell_type": "code",
   "execution_count": 3,
   "metadata": {},
   "outputs": [
    {
     "data": {
      "text/plain": [
       "['/dev/ttyUSB0', '/dev/ttyUSB1']"
      ]
     },
     "execution_count": 3,
     "metadata": {},
     "output_type": "execute_result"
    }
   ],
   "source": [
    "import os\n",
    "\n",
    "result = os.popen('ls /dev/ttyUSB*').read()\n",
    "\n",
    "result.strip().split(\"\\n\")"
   ]
  },
  {
   "cell_type": "code",
   "execution_count": null,
   "metadata": {},
   "outputs": [],
   "source": [
    "# k = 0\n",
    "\n",
    "# def flip(x_log,thresh,X):\n",
    "#     global k\n",
    "#     xt = x_log[-2]\n",
    "#     xt_1 = x_log[-1]\n",
    "#     if xt_1 - xt > thresh:\n",
    "#         k -= 1\n",
    "#     elif xt - xt_1 > thresh:\n",
    "#         k += 1\n",
    "#     return xt_1 + k*X\n",
    "\n",
    "# array = []\n",
    "# for i in range(10):\n",
    "#     array.append(i%)"
   ]
  },
  {
   "cell_type": "markdown",
   "metadata": {},
   "source": [
    "# Note:\n",
    "\n",
    "- Plug right side in first, then left side with splitter\n",
    "- The sole USB is the USB0\n",
    "- The USB on the R side is USB1\n",
    "- The USB on the A side is USB2"
   ]
  },
  {
   "cell_type": "code",
   "execution_count": 2,
   "metadata": {},
   "outputs": [],
   "source": [
    "f = \"\"\"0.0165\n",
    "0.0157\n",
    "0.0161\n",
    "0.0158\n",
    "0.0161\n",
    "0.0159\"\"\""
   ]
  },
  {
   "cell_type": "code",
   "execution_count": 3,
   "metadata": {},
   "outputs": [
    {
     "data": {
      "text/plain": [
       "(0.016016666666666665, 0.0002857738033247043)"
      ]
     },
     "execution_count": 3,
     "metadata": {},
     "output_type": "execute_result"
    }
   ],
   "source": [
    "import statistics as stat\n",
    "l = [float(i) for i in f.split()]\n",
    "stat.mean(l), stat.stdev(l)"
   ]
  }
 ],
 "metadata": {
  "kernelspec": {
   "display_name": "base",
   "language": "python",
   "name": "python3"
  },
  "language_info": {
   "codemirror_mode": {
    "name": "ipython",
    "version": 3
   },
   "file_extension": ".py",
   "mimetype": "text/x-python",
   "name": "python",
   "nbconvert_exporter": "python",
   "pygments_lexer": "ipython3",
   "version": "3.12.4"
  }
 },
 "nbformat": 4,
 "nbformat_minor": 2
}
